{
 "cells": [
  {
   "cell_type": "code",
   "execution_count": null,
   "metadata": {},
   "outputs": [],
   "source": [
    "%pip install ultralytics"
   ]
  },
  {
   "cell_type": "code",
   "execution_count": null,
   "metadata": {},
   "outputs": [],
   "source": [
    "import ultralytics\n",
    "from ultralytics import YOLO\n",
    "import multiprocessing\n",
    "\n",
    "if __name__ == '__main__':\n",
    "    multiprocessing.freeze_support()\n",
    "\n",
    "    # load model\n",
    "    model = YOLO('models/yolo11l.pt')\n",
    "\n",
    "    # train model\n",
    "    result = model.train(\n",
    "        data = 'config.yaml',\n",
    "        imgsz = 640,\n",
    "        epochs = 300,\n",
    "        patience = 60,\n",
    "        batch = 15,\n",
    "        project = 'Yolov11l_trash_classification',\n",
    "        name = 'run1'\n",
    "    )"
   ]
  }
 ],
 "metadata": {
  "language_info": {
   "name": "python"
  }
 },
 "nbformat": 4,
 "nbformat_minor": 2
}
